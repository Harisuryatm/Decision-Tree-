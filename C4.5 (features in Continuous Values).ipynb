{
 "cells": [
  {
   "cell_type": "markdown",
   "metadata": {},
   "source": [
    "## C4.5 Algorithm (updated algorithm of ID3)"
   ]
  },
  {
   "cell_type": "markdown",
   "metadata": {},
   "source": [
    "Here Instead of working on information gain, working with information gain RATIO . \n",
    "#### ADVANTAGE\n",
    "1. Algorithms can have continuous values (humidity,Temp.)\n",
    "2. The data csn have missing values in it."
   ]
  },
  {
   "cell_type": "code",
   "execution_count": 6,
   "metadata": {},
   "outputs": [],
   "source": [
    "import pandas as pd\n",
    "data = [['Sunny',85,85,'Weak','No'],\n",
    "        ['Sunny',80,90,'Strong','No'],\n",
    "        ['Overcast',83,78,'Weak','Yes'],\n",
    "        ['Rain',70,96,'Weak','Yes'],\n",
    "        ['Rain',68,80,'Weak','Yes'],\n",
    "        ['Rain',65,70,'Strong','No'],\n",
    "        ['Overcast',64,65,'Strong','Yes'],\n",
    "        ['Sunny',72,95,'Weak','No'],\n",
    "        ['Sunny',69,70,'Weak','Yes'],\n",
    "        ['Rain',75,80,'Weak','Yes'],\n",
    "        ['Sunny',75,70,'Strong','Yes'],\n",
    "        ['Overcast',72,90,'Strong','Yes'],\n",
    "        ['Overcast',81,75,'Weak','Yes'],\n",
    "        ['Rain',71,80,'Strong','No']]"
   ]
  },
  {
   "cell_type": "code",
   "execution_count": 7,
   "metadata": {},
   "outputs": [],
   "source": [
    "title = ['Outlook','Temp.','Humidity','Wind','Decision']"
   ]
  },
  {
   "cell_type": "code",
   "execution_count": 8,
   "metadata": {},
   "outputs": [
    {
     "data": {
      "text/html": [
       "<div>\n",
       "<style scoped>\n",
       "    .dataframe tbody tr th:only-of-type {\n",
       "        vertical-align: middle;\n",
       "    }\n",
       "\n",
       "    .dataframe tbody tr th {\n",
       "        vertical-align: top;\n",
       "    }\n",
       "\n",
       "    .dataframe thead th {\n",
       "        text-align: right;\n",
       "    }\n",
       "</style>\n",
       "<table border=\"1\" class=\"dataframe\">\n",
       "  <thead>\n",
       "    <tr style=\"text-align: right;\">\n",
       "      <th></th>\n",
       "      <th>Outlook</th>\n",
       "      <th>Temp.</th>\n",
       "      <th>Humidity</th>\n",
       "      <th>Wind</th>\n",
       "      <th>Decision</th>\n",
       "    </tr>\n",
       "  </thead>\n",
       "  <tbody>\n",
       "    <tr>\n",
       "      <th>0</th>\n",
       "      <td>Sunny</td>\n",
       "      <td>85</td>\n",
       "      <td>85</td>\n",
       "      <td>Weak</td>\n",
       "      <td>No</td>\n",
       "    </tr>\n",
       "    <tr>\n",
       "      <th>1</th>\n",
       "      <td>Sunny</td>\n",
       "      <td>80</td>\n",
       "      <td>90</td>\n",
       "      <td>Strong</td>\n",
       "      <td>No</td>\n",
       "    </tr>\n",
       "    <tr>\n",
       "      <th>2</th>\n",
       "      <td>Overcast</td>\n",
       "      <td>83</td>\n",
       "      <td>78</td>\n",
       "      <td>Weak</td>\n",
       "      <td>Yes</td>\n",
       "    </tr>\n",
       "    <tr>\n",
       "      <th>3</th>\n",
       "      <td>Rain</td>\n",
       "      <td>70</td>\n",
       "      <td>96</td>\n",
       "      <td>Weak</td>\n",
       "      <td>Yes</td>\n",
       "    </tr>\n",
       "    <tr>\n",
       "      <th>4</th>\n",
       "      <td>Rain</td>\n",
       "      <td>68</td>\n",
       "      <td>80</td>\n",
       "      <td>Weak</td>\n",
       "      <td>Yes</td>\n",
       "    </tr>\n",
       "    <tr>\n",
       "      <th>5</th>\n",
       "      <td>Rain</td>\n",
       "      <td>65</td>\n",
       "      <td>70</td>\n",
       "      <td>Strong</td>\n",
       "      <td>No</td>\n",
       "    </tr>\n",
       "    <tr>\n",
       "      <th>6</th>\n",
       "      <td>Overcast</td>\n",
       "      <td>64</td>\n",
       "      <td>65</td>\n",
       "      <td>Strong</td>\n",
       "      <td>Yes</td>\n",
       "    </tr>\n",
       "    <tr>\n",
       "      <th>7</th>\n",
       "      <td>Sunny</td>\n",
       "      <td>72</td>\n",
       "      <td>95</td>\n",
       "      <td>Weak</td>\n",
       "      <td>No</td>\n",
       "    </tr>\n",
       "    <tr>\n",
       "      <th>8</th>\n",
       "      <td>Sunny</td>\n",
       "      <td>69</td>\n",
       "      <td>70</td>\n",
       "      <td>Weak</td>\n",
       "      <td>Yes</td>\n",
       "    </tr>\n",
       "    <tr>\n",
       "      <th>9</th>\n",
       "      <td>Rain</td>\n",
       "      <td>75</td>\n",
       "      <td>80</td>\n",
       "      <td>Weak</td>\n",
       "      <td>Yes</td>\n",
       "    </tr>\n",
       "    <tr>\n",
       "      <th>10</th>\n",
       "      <td>Sunny</td>\n",
       "      <td>75</td>\n",
       "      <td>70</td>\n",
       "      <td>Strong</td>\n",
       "      <td>Yes</td>\n",
       "    </tr>\n",
       "    <tr>\n",
       "      <th>11</th>\n",
       "      <td>Overcast</td>\n",
       "      <td>72</td>\n",
       "      <td>90</td>\n",
       "      <td>Strong</td>\n",
       "      <td>Yes</td>\n",
       "    </tr>\n",
       "    <tr>\n",
       "      <th>12</th>\n",
       "      <td>Overcast</td>\n",
       "      <td>81</td>\n",
       "      <td>75</td>\n",
       "      <td>Weak</td>\n",
       "      <td>Yes</td>\n",
       "    </tr>\n",
       "    <tr>\n",
       "      <th>13</th>\n",
       "      <td>Rain</td>\n",
       "      <td>71</td>\n",
       "      <td>80</td>\n",
       "      <td>Strong</td>\n",
       "      <td>No</td>\n",
       "    </tr>\n",
       "  </tbody>\n",
       "</table>\n",
       "</div>"
      ],
      "text/plain": [
       "     Outlook  Temp.  Humidity    Wind Decision\n",
       "0      Sunny     85        85    Weak       No\n",
       "1      Sunny     80        90  Strong       No\n",
       "2   Overcast     83        78    Weak      Yes\n",
       "3       Rain     70        96    Weak      Yes\n",
       "4       Rain     68        80    Weak      Yes\n",
       "5       Rain     65        70  Strong       No\n",
       "6   Overcast     64        65  Strong      Yes\n",
       "7      Sunny     72        95    Weak       No\n",
       "8      Sunny     69        70    Weak      Yes\n",
       "9       Rain     75        80    Weak      Yes\n",
       "10     Sunny     75        70  Strong      Yes\n",
       "11  Overcast     72        90  Strong      Yes\n",
       "12  Overcast     81        75    Weak      Yes\n",
       "13      Rain     71        80  Strong       No"
      ]
     },
     "execution_count": 8,
     "metadata": {},
     "output_type": "execute_result"
    }
   ],
   "source": [
    "Data = pd.DataFrame(data,columns = title)\n",
    "Data"
   ]
  },
  {
   "cell_type": "code",
   "execution_count": 9,
   "metadata": {},
   "outputs": [],
   "source": [
    "#creating uniques values for features\n",
    "def unique_values(rows,col):\n",
    "    return set([row[col] for row in rows])"
   ]
  },
  {
   "cell_type": "code",
   "execution_count": 13,
   "metadata": {},
   "outputs": [
    {
     "data": {
      "text/plain": [
       "{'No', 'Yes'}"
      ]
     },
     "execution_count": 13,
     "metadata": {},
     "output_type": "execute_result"
    }
   ],
   "source": [
    "unique_values(data,-1)"
   ]
  },
  {
   "cell_type": "code",
   "execution_count": 16,
   "metadata": {},
   "outputs": [],
   "source": [
    "#counting the attributes of class label\n",
    "def count_values(rows):\n",
    "    count = {}\n",
    "    for row in rows:\n",
    "        label = row[-1]\n",
    "        if label not in count:\n",
    "            count[label] = 1\n",
    "        else:\n",
    "            count[label] += 1\n",
    "    return count"
   ]
  },
  {
   "cell_type": "code",
   "execution_count": 17,
   "metadata": {},
   "outputs": [
    {
     "data": {
      "text/plain": [
       "{'No': 5, 'Yes': 9}"
      ]
     },
     "execution_count": 17,
     "metadata": {},
     "output_type": "execute_result"
    }
   ],
   "source": [
    "count_values(data)"
   ]
  },
  {
   "cell_type": "code",
   "execution_count": 21,
   "metadata": {},
   "outputs": [],
   "source": [
    "#checkin whether the value is numeric or not\n",
    "def is_numeric(val):\n",
    "    return isinstance(val,int) or isinstance(val,float)\n"
   ]
  },
  {
   "cell_type": "code",
   "execution_count": 23,
   "metadata": {},
   "outputs": [
    {
     "name": "stdout",
     "output_type": "stream",
     "text": [
      "False\n",
      "True\n"
     ]
    }
   ],
   "source": [
    "print(is_numeric('Red'))\n",
    "print(is_numeric(7))"
   ]
  },
  {
   "cell_type": "code",
   "execution_count": 92,
   "metadata": {},
   "outputs": [],
   "source": [
    "#creating Question\n",
    "class Question:\n",
    "    def __init__(self,col,value):\n",
    "        self.col = col\n",
    "        self.value = value\n",
    "    \n",
    "    def match(self,example):\n",
    "        val = example[self.col]\n",
    "        if is_numeric(self.value):\n",
    "            return val <= self.value\n",
    "        return val == self.value\n",
    "        \n",
    "        \n",
    "    def __repr__(self):\n",
    "        condition = '=='\n",
    "        if is_numeric(self.value):\n",
    "            condition = '<='\n",
    "        return ('Is %s %s %s ?'%(title[self.col],condition,self.value))"
   ]
  },
  {
   "cell_type": "code",
   "execution_count": 93,
   "metadata": {},
   "outputs": [
    {
     "data": {
      "text/plain": [
       "Is Outlook == Sunny ?"
      ]
     },
     "execution_count": 93,
     "metadata": {},
     "output_type": "execute_result"
    }
   ],
   "source": [
    "q = Question(0,'Sunny')\n",
    "q"
   ]
  },
  {
   "cell_type": "code",
   "execution_count": 94,
   "metadata": {},
   "outputs": [
    {
     "data": {
      "text/plain": [
       "Is Temp. <= 83 ?"
      ]
     },
     "execution_count": 94,
     "metadata": {},
     "output_type": "execute_result"
    }
   ],
   "source": [
    "r = Question(1,83)\n",
    "r"
   ]
  },
  {
   "cell_type": "code",
   "execution_count": 201,
   "metadata": {},
   "outputs": [],
   "source": [
    "# Splitting the dataset with respect to question\n",
    "def partition(rows,question):\n",
    "    true_rows,false_rows = [],[]\n",
    "    for row in rows:\n",
    "        #print(row)\n",
    "        if question.match(row):\n",
    "            true_rows.append(row)\n",
    "        else:\n",
    "            false_rows.append(row)\n",
    "    return true_rows,false_rows"
   ]
  },
  {
   "cell_type": "code",
   "execution_count": 96,
   "metadata": {},
   "outputs": [],
   "source": [
    "t_r,f_r=partition(data,Question(3,'Weak'))"
   ]
  },
  {
   "cell_type": "code",
   "execution_count": 97,
   "metadata": {},
   "outputs": [
    {
     "data": {
      "text/plain": [
       "[['Sunny', 85, 85, 'Weak', 'No'],\n",
       " ['Overcast', 83, 78, 'Weak', 'Yes'],\n",
       " ['Rain', 70, 96, 'Weak', 'Yes'],\n",
       " ['Rain', 68, 80, 'Weak', 'Yes'],\n",
       " ['Sunny', 72, 95, 'Weak', 'No'],\n",
       " ['Sunny', 69, 70, 'Weak', 'Yes'],\n",
       " ['Rain', 75, 80, 'Weak', 'Yes'],\n",
       " ['Overcast', 81, 75, 'Weak', 'Yes']]"
      ]
     },
     "execution_count": 97,
     "metadata": {},
     "output_type": "execute_result"
    }
   ],
   "source": [
    "t_r"
   ]
  },
  {
   "cell_type": "code",
   "execution_count": 98,
   "metadata": {},
   "outputs": [],
   "source": [
    "# Quantifyin methods"
   ]
  },
  {
   "cell_type": "markdown",
   "metadata": {},
   "source": [
    "In Id3, We build the tree by calculating Entropy or gini and Information gain.    \n",
    "In C4.5, We try to find the Information gain Ratio by providing splitting Information."
   ]
  },
  {
   "cell_type": "markdown",
   "metadata": {},
   "source": [
    "GainRatio(A) = Gain(A) / SplitInfo(A)   \n",
    "\n",
    "SplitInfo(A) = -∑ |Dj|/|D| x log2|Dj|/|D|"
   ]
  },
  {
   "cell_type": "code",
   "execution_count": 99,
   "metadata": {},
   "outputs": [],
   "source": [
    "#Impurity for splitting the data\n",
    "def entropy(rows):\n",
    "    count = count_values(rows)\n",
    "    entropy = 0\n",
    "    from math import log\n",
    "    log2 = lambda x : log(x)/log(2)\n",
    "    for label in count:\n",
    "        p = count[label]/len(rows)\n",
    "        entropy -= p * log2(p)\n",
    "    return entropy"
   ]
  },
  {
   "cell_type": "code",
   "execution_count": 100,
   "metadata": {},
   "outputs": [
    {
     "data": {
      "text/plain": [
       "0.8112781244591328"
      ]
     },
     "execution_count": 100,
     "metadata": {},
     "output_type": "execute_result"
    }
   ],
   "source": [
    "entropy(t_r)"
   ]
  },
  {
   "cell_type": "code",
   "execution_count": 101,
   "metadata": {},
   "outputs": [],
   "source": [
    "def info_gain_entropy(current,left,right):\n",
    "    p = float(len(left))/(len(left)+len(right))\n",
    "    return current - p*entropy(left) - (1-p)*entropy(right)"
   ]
  },
  {
   "cell_type": "code",
   "execution_count": 102,
   "metadata": {},
   "outputs": [
    {
     "data": {
      "text/plain": [
       "0.04812703040826927"
      ]
     },
     "execution_count": 102,
     "metadata": {},
     "output_type": "execute_result"
    }
   ],
   "source": [
    "Impurity = entropy(data)\n",
    "info_gain_entropy(Impurity,t_r,f_r)"
   ]
  },
  {
   "cell_type": "markdown",
   "metadata": {},
   "source": [
    "Going to find C4.5 algorithm important part..    \n",
    "Splitting info ,Gain Ratio "
   ]
  },
  {
   "cell_type": "code",
   "execution_count": 103,
   "metadata": {},
   "outputs": [],
   "source": [
    "# Splitting Info\n",
    "def split_Info(left,right):\n",
    "    num = float(len(left))\n",
    "    den = len(left)+len(right)\n",
    "    p = num/den\n",
    "    from math import log\n",
    "    log2 = lambda x : log(x)/log(2)\n",
    "    return -log2(p)*p - log2(1-p)*(1-p)"
   ]
  },
  {
   "cell_type": "code",
   "execution_count": 104,
   "metadata": {},
   "outputs": [
    {
     "data": {
      "text/plain": [
       "0.9852281360342516"
      ]
     },
     "execution_count": 104,
     "metadata": {},
     "output_type": "execute_result"
    }
   ],
   "source": [
    "split_ratio(t_r,f_r)"
   ]
  },
  {
   "cell_type": "code",
   "execution_count": 105,
   "metadata": {},
   "outputs": [],
   "source": [
    "#Gain Ratio\n",
    "def gainRatio(current_gain,split):\n",
    "    return current_gain/split"
   ]
  },
  {
   "cell_type": "code",
   "execution_count": 106,
   "metadata": {},
   "outputs": [
    {
     "data": {
      "text/plain": [
       "0.048848615511520595"
      ]
     },
     "execution_count": 106,
     "metadata": {},
     "output_type": "execute_result"
    }
   ],
   "source": [
    "gainRatio(info_gain_entropy(Impurity,t_r,f_r),split_ratio(t_r,f_r))"
   ]
  },
  {
   "cell_type": "code",
   "execution_count": 164,
   "metadata": {},
   "outputs": [],
   "source": [
    "#splitting the best question and gainRatio\n",
    "def best_split(rows):\n",
    "    best_gainRatio = 0\n",
    "    best_question = None\n",
    "    current = entropy(rows)\n",
    "    features = len(rows[0])-1\n",
    "    for col in range(features):\n",
    "        value = unique_values(rows,col)\n",
    "        for val in value:\n",
    "            question = Question(col,val)\n",
    "            \n",
    "            true_rows,false_rows = partition(rows,question)\n",
    "            \n",
    "            if len(true_rows) == 0 or len(false_rows) == 0:\n",
    "                continue\n",
    "            \n",
    "            splitting_info = split_Info(true_rows,false_rows)\n",
    "            \n",
    "            gain = info_gain_entropy(current,true_rows,false_rows)\n",
    "            GainRatio = gain/splitting_info\n",
    "            if GainRatio > best_gainRatio:\n",
    "                best_gainRatio,best_question = GainRatio,question\n",
    "    return best_gainRatio,best_question"
   ]
  },
  {
   "cell_type": "code",
   "execution_count": 165,
   "metadata": {},
   "outputs": [],
   "source": [
    "g,q = best_split(data)"
   ]
  },
  {
   "cell_type": "code",
   "execution_count": 166,
   "metadata": {},
   "outputs": [
    {
     "data": {
      "text/plain": [
       "(Is Temp. <= 83 ?, 0.30547141518417775)"
      ]
     },
     "execution_count": 166,
     "metadata": {},
     "output_type": "execute_result"
    }
   ],
   "source": [
    "q,g"
   ]
  },
  {
   "cell_type": "code",
   "execution_count": 159,
   "metadata": {},
   "outputs": [],
   "source": [
    "#class --> decisiontree\n",
    "class DecisionTree:\n",
    "    def __init__(self,question,true_branch,false_branch):\n",
    "        #stores question\n",
    "        self.question = question\n",
    "        #stores true_branch\n",
    "        self.true_branch = true_branch\n",
    "        #stores false_branch\n",
    "        self.false_branch = false_branch"
   ]
  },
  {
   "cell_type": "code",
   "execution_count": 160,
   "metadata": {},
   "outputs": [],
   "source": [
    "#class leaf\n",
    "class Leaf:\n",
    "    def __init__(self,rows):\n",
    "        #stores the leaf value\n",
    "        self.predictions = count_values(rows)"
   ]
  },
  {
   "cell_type": "code",
   "execution_count": 167,
   "metadata": {},
   "outputs": [],
   "source": [
    "def build_tree(rows):\n",
    "    #info_gain and question formed\n",
    "    gainRatio,question = best_split(rows)\n",
    "    \n",
    "    #if gain = 0, then Leaf satisfied \n",
    "    if gainRatio == 0:\n",
    "        return Leaf(rows)\n",
    "    \n",
    "    #to find a best value or question to partition on\n",
    "    true_rows,false_rows = partition(rows,question)\n",
    "    #recursive function to build the model\n",
    "    true_branch = build_tree(true_rows)\n",
    "    false_branch = build_tree(false_rows)\n",
    "    \n",
    "    return DecisionTree(question , true_branch , false_branch)\n"
   ]
  },
  {
   "cell_type": "code",
   "execution_count": 172,
   "metadata": {},
   "outputs": [],
   "source": [
    "def print_tree(node,indentation=\"\"):\n",
    "    '''printing function'''\n",
    "    #base case means we have reached the leaf\n",
    "    #if the node object is of leaf type\n",
    "    if isinstance(node,Leaf):\n",
    "        print(indentation+\"PREDICTION\",node.predictions)\n",
    "        return \n",
    "    #print the question at node\n",
    "    print(indentation + str(node.question))\n",
    "    \n",
    "    #call the function on true branch \n",
    "    print(indentation+ \"Return Yes\")\n",
    "    print_tree(node.true_branch,indentation + \" \")\n",
    "    \n",
    "    #on flase branch\n",
    "    print(indentation+ \"Return No\")\n",
    "    print_tree(node.false_branch,indentation + \" \")"
   ]
  },
  {
   "cell_type": "code",
   "execution_count": 173,
   "metadata": {},
   "outputs": [],
   "source": [
    "my_tree = build_tree(data)"
   ]
  },
  {
   "cell_type": "code",
   "execution_count": 174,
   "metadata": {},
   "outputs": [
    {
     "name": "stdout",
     "output_type": "stream",
     "text": [
      "Is Temp. <= 83 ?\n",
      "Return Yes\n",
      " Is Outlook == Overcast ?\n",
      " Return Yes\n",
      "  PREDICTION {'Yes': 4}\n",
      " Return No\n",
      "  Is Temp. <= 65 ?\n",
      "  Return Yes\n",
      "   PREDICTION {'No': 1}\n",
      "  Return No\n",
      "   Is Temp. <= 75 ?\n",
      "   Return Yes\n",
      "    Is Temp. <= 70 ?\n",
      "    Return Yes\n",
      "     PREDICTION {'Yes': 3}\n",
      "    Return No\n",
      "     Is Temp. <= 72 ?\n",
      "     Return Yes\n",
      "      PREDICTION {'No': 2}\n",
      "     Return No\n",
      "      PREDICTION {'Yes': 2}\n",
      "   Return No\n",
      "    PREDICTION {'No': 1}\n",
      "Return No\n",
      " PREDICTION {'No': 1}\n"
     ]
    }
   ],
   "source": [
    "print_tree(my_tree)"
   ]
  },
  {
   "cell_type": "code",
   "execution_count": 152,
   "metadata": {},
   "outputs": [],
   "source": []
  },
  {
   "cell_type": "code",
   "execution_count": 197,
   "metadata": {},
   "outputs": [],
   "source": [
    "testing_data = [['Rain',65,40,'Strong','Yes'],\n",
    "        ['Sunny',75,70,'Strong','No'],\n",
    "        ['Overcast',85,90,'Strong','Yes'],\n",
    "        ['Rain',81,75,'Strong','No'],\n",
    "        ['Rain',71,40,'Strong','No']]"
   ]
  },
  {
   "cell_type": "code",
   "execution_count": null,
   "metadata": {},
   "outputs": [],
   "source": []
  },
  {
   "cell_type": "code",
   "execution_count": 198,
   "metadata": {},
   "outputs": [],
   "source": [
    "def classify(row, node):\n",
    "    \"\"\"See the 'rules of recursion' above.\"\"\"\n",
    "\n",
    "    # Base case: we've reached a leaf\n",
    "    if isinstance(node, Leaf):\n",
    "        return node.predictions\n",
    "\n",
    "    # Decide whether to follow the true-branch or the false-branch.\n",
    "    # Compare the feature / value stored in the node,\n",
    "    # to the example we're considering.\n",
    "    if node.question.match(row):\n",
    "        return classify(row, node.true_branch)\n",
    "    else:\n",
    "        return classify(row, node.false_branch)"
   ]
  },
  {
   "cell_type": "code",
   "execution_count": 199,
   "metadata": {},
   "outputs": [],
   "source": [
    "def print_leaf(counts):\n",
    "    \"\"\"A nicer way to print the predictions at a leaf.\"\"\"\n",
    "    total = sum(counts.values()) * 1.0\n",
    "    probs = {}\n",
    "    for lbl in counts.keys():\n",
    "        probs[lbl] = str(int(counts[lbl] / total * 100)) + \"%\"\n",
    "    return probs"
   ]
  },
  {
   "cell_type": "code",
   "execution_count": 200,
   "metadata": {},
   "outputs": [
    {
     "name": "stdout",
     "output_type": "stream",
     "text": [
      "['Outlook', 'Temp.', 'Humidity', 'Wind', 'Decision']\n",
      "\n",
      "Actual: Yes. Predicted: {'No': '100%'}\n",
      "Actual: No. Predicted: {'Yes': '100%'}\n",
      "Actual: Yes. Predicted: {'No': '100%'}\n",
      "Actual: No. Predicted: {'No': '100%'}\n",
      "Actual: No. Predicted: {'No': '100%'}\n"
     ]
    }
   ],
   "source": [
    "print(title)\n",
    "print()\n",
    "for row in testing_data:\n",
    "    print (\"Actual: %s. Predicted: %s\" %\n",
    "           (row[-1], print_leaf(classify(row, my_tree))))"
   ]
  },
  {
   "cell_type": "markdown",
   "metadata": {},
   "source": [
    "### The Only difference is ,if there is a continuous values in the data , better using C4.5 Algorithm \n",
    "reduces the overfitting in the data\n",
    "coz, it is calculated with redpect to the gainRatio(ci=ontinuous values)"
   ]
  },
  {
   "cell_type": "code",
   "execution_count": null,
   "metadata": {},
   "outputs": [],
   "source": []
  }
 ],
 "metadata": {
  "kernelspec": {
   "display_name": "Python 3",
   "language": "python",
   "name": "python3"
  },
  "language_info": {
   "codemirror_mode": {
    "name": "ipython",
    "version": 3
   },
   "file_extension": ".py",
   "mimetype": "text/x-python",
   "name": "python",
   "nbconvert_exporter": "python",
   "pygments_lexer": "ipython3",
   "version": "3.7.1"
  }
 },
 "nbformat": 4,
 "nbformat_minor": 2
}
