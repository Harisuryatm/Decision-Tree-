{
 "cells": [
  {
   "cell_type": "markdown",
   "metadata": {},
   "source": [
    "### the following table informs about decision making factors to play tennis at outside for previous 14 days.\n",
    "classification Problem , can use both CART :(giniimpurity) , ID3 algorithm   \n",
    "CART is the most efficient algorithm"
   ]
  },
  {
   "cell_type": "code",
   "execution_count": 4,
   "metadata": {},
   "outputs": [],
   "source": [
    "#CART\n",
    "import pandas as pd"
   ]
  },
  {
   "cell_type": "code",
   "execution_count": 5,
   "metadata": {},
   "outputs": [],
   "source": [
    "data = [['Sunny','Hot','High','Weak','No'],\n",
    "        ['Sunny','Hot','High','Strong','No'],\n",
    "        ['Overcast','Hot','High','Weak','Yes'],\n",
    "        ['Rain','Mild','High','Weak','Yes'],\n",
    "        ['Rain','Cool','Normal','Weak','Yes'],\n",
    "        ['Rain','Cool','Normal','Strong','No'],\n",
    "        ['Overcast','Cool','Normal','Strong','Yes'],\n",
    "        ['Sunny','Mild','High','Weak','No'],\n",
    "        ['Sunny','Cool','Normal','Weak','Yes'],\n",
    "        ['Rain','Mild','Normal','Weak','Yes'],\n",
    "        ['Sunny','Mild','Normal','Strong','Yes'],\n",
    "        ['Overcast','Mild','High','Strong','Yes'],\n",
    "        ['Overcast','Hot','Normal','Weak','Yes'],\n",
    "        ['Rain','Mild','High','Strong','No']]"
   ]
  },
  {
   "cell_type": "code",
   "execution_count": 6,
   "metadata": {},
   "outputs": [],
   "source": [
    "title = ['Outlook','Temp.','Humidity','Wind','Decision']"
   ]
  },
  {
   "cell_type": "code",
   "execution_count": 7,
   "metadata": {},
   "outputs": [
    {
     "data": {
      "text/html": [
       "<div>\n",
       "<style scoped>\n",
       "    .dataframe tbody tr th:only-of-type {\n",
       "        vertical-align: middle;\n",
       "    }\n",
       "\n",
       "    .dataframe tbody tr th {\n",
       "        vertical-align: top;\n",
       "    }\n",
       "\n",
       "    .dataframe thead th {\n",
       "        text-align: right;\n",
       "    }\n",
       "</style>\n",
       "<table border=\"1\" class=\"dataframe\">\n",
       "  <thead>\n",
       "    <tr style=\"text-align: right;\">\n",
       "      <th></th>\n",
       "      <th>Outlook</th>\n",
       "      <th>Temp.</th>\n",
       "      <th>Humidity</th>\n",
       "      <th>Wind</th>\n",
       "      <th>Decision</th>\n",
       "    </tr>\n",
       "  </thead>\n",
       "  <tbody>\n",
       "    <tr>\n",
       "      <th>0</th>\n",
       "      <td>Sunny</td>\n",
       "      <td>Hot</td>\n",
       "      <td>High</td>\n",
       "      <td>Weak</td>\n",
       "      <td>No</td>\n",
       "    </tr>\n",
       "    <tr>\n",
       "      <th>1</th>\n",
       "      <td>Sunny</td>\n",
       "      <td>Hot</td>\n",
       "      <td>High</td>\n",
       "      <td>Strong</td>\n",
       "      <td>No</td>\n",
       "    </tr>\n",
       "    <tr>\n",
       "      <th>2</th>\n",
       "      <td>Overcast</td>\n",
       "      <td>Hot</td>\n",
       "      <td>High</td>\n",
       "      <td>Weak</td>\n",
       "      <td>Yes</td>\n",
       "    </tr>\n",
       "    <tr>\n",
       "      <th>3</th>\n",
       "      <td>Rain</td>\n",
       "      <td>Mild</td>\n",
       "      <td>High</td>\n",
       "      <td>Weak</td>\n",
       "      <td>Yes</td>\n",
       "    </tr>\n",
       "    <tr>\n",
       "      <th>4</th>\n",
       "      <td>Rain</td>\n",
       "      <td>Cool</td>\n",
       "      <td>Normal</td>\n",
       "      <td>Weak</td>\n",
       "      <td>Yes</td>\n",
       "    </tr>\n",
       "    <tr>\n",
       "      <th>5</th>\n",
       "      <td>Rain</td>\n",
       "      <td>Cool</td>\n",
       "      <td>Normal</td>\n",
       "      <td>Strong</td>\n",
       "      <td>No</td>\n",
       "    </tr>\n",
       "    <tr>\n",
       "      <th>6</th>\n",
       "      <td>Overcast</td>\n",
       "      <td>Cool</td>\n",
       "      <td>Normal</td>\n",
       "      <td>Strong</td>\n",
       "      <td>Yes</td>\n",
       "    </tr>\n",
       "    <tr>\n",
       "      <th>7</th>\n",
       "      <td>Sunny</td>\n",
       "      <td>Mild</td>\n",
       "      <td>High</td>\n",
       "      <td>Weak</td>\n",
       "      <td>No</td>\n",
       "    </tr>\n",
       "    <tr>\n",
       "      <th>8</th>\n",
       "      <td>Sunny</td>\n",
       "      <td>Cool</td>\n",
       "      <td>Normal</td>\n",
       "      <td>Weak</td>\n",
       "      <td>Yes</td>\n",
       "    </tr>\n",
       "    <tr>\n",
       "      <th>9</th>\n",
       "      <td>Rain</td>\n",
       "      <td>Mild</td>\n",
       "      <td>Normal</td>\n",
       "      <td>Weak</td>\n",
       "      <td>Yes</td>\n",
       "    </tr>\n",
       "    <tr>\n",
       "      <th>10</th>\n",
       "      <td>Sunny</td>\n",
       "      <td>Mild</td>\n",
       "      <td>Normal</td>\n",
       "      <td>Strong</td>\n",
       "      <td>Yes</td>\n",
       "    </tr>\n",
       "    <tr>\n",
       "      <th>11</th>\n",
       "      <td>Overcast</td>\n",
       "      <td>Mild</td>\n",
       "      <td>High</td>\n",
       "      <td>Strong</td>\n",
       "      <td>Yes</td>\n",
       "    </tr>\n",
       "    <tr>\n",
       "      <th>12</th>\n",
       "      <td>Overcast</td>\n",
       "      <td>Hot</td>\n",
       "      <td>Normal</td>\n",
       "      <td>Weak</td>\n",
       "      <td>Yes</td>\n",
       "    </tr>\n",
       "    <tr>\n",
       "      <th>13</th>\n",
       "      <td>Rain</td>\n",
       "      <td>Mild</td>\n",
       "      <td>High</td>\n",
       "      <td>Strong</td>\n",
       "      <td>No</td>\n",
       "    </tr>\n",
       "  </tbody>\n",
       "</table>\n",
       "</div>"
      ],
      "text/plain": [
       "     Outlook Temp. Humidity    Wind Decision\n",
       "0      Sunny   Hot     High    Weak       No\n",
       "1      Sunny   Hot     High  Strong       No\n",
       "2   Overcast   Hot     High    Weak      Yes\n",
       "3       Rain  Mild     High    Weak      Yes\n",
       "4       Rain  Cool   Normal    Weak      Yes\n",
       "5       Rain  Cool   Normal  Strong       No\n",
       "6   Overcast  Cool   Normal  Strong      Yes\n",
       "7      Sunny  Mild     High    Weak       No\n",
       "8      Sunny  Cool   Normal    Weak      Yes\n",
       "9       Rain  Mild   Normal    Weak      Yes\n",
       "10     Sunny  Mild   Normal  Strong      Yes\n",
       "11  Overcast  Mild     High  Strong      Yes\n",
       "12  Overcast   Hot   Normal    Weak      Yes\n",
       "13      Rain  Mild     High  Strong       No"
      ]
     },
     "execution_count": 7,
     "metadata": {},
     "output_type": "execute_result"
    }
   ],
   "source": [
    "Data = pd.DataFrame(data = data,columns = title)\n",
    "Data"
   ]
  },
  {
   "cell_type": "code",
   "execution_count": 8,
   "metadata": {},
   "outputs": [],
   "source": [
    "#uniques values in the column\n",
    "def unique_values(rows,col):\n",
    "    return set([row[col] for row in rows])"
   ]
  },
  {
   "cell_type": "code",
   "execution_count": 9,
   "metadata": {},
   "outputs": [
    {
     "data": {
      "text/plain": [
       "{'Overcast', 'Rain', 'Sunny'}"
      ]
     },
     "execution_count": 9,
     "metadata": {},
     "output_type": "execute_result"
    }
   ],
   "source": [
    "unique_values(data,0)"
   ]
  },
  {
   "cell_type": "code",
   "execution_count": 10,
   "metadata": {},
   "outputs": [],
   "source": [
    "#counting the attributes of the features\n",
    "def count_values(rows):\n",
    "    count = {}\n",
    "    for row in rows:\n",
    "        #print(row)\n",
    "        label = row[-1]\n",
    "        if label not in count:\n",
    "            count[label] = 1\n",
    "        else:\n",
    "            count[label] += 1\n",
    "    return count"
   ]
  },
  {
   "cell_type": "code",
   "execution_count": 11,
   "metadata": {},
   "outputs": [
    {
     "data": {
      "text/plain": [
       "{'No': 5, 'Yes': 9}"
      ]
     },
     "execution_count": 11,
     "metadata": {},
     "output_type": "execute_result"
    }
   ],
   "source": [
    "count_values(data)"
   ]
  },
  {
   "cell_type": "code",
   "execution_count": 12,
   "metadata": {},
   "outputs": [],
   "source": [
    "#forming Question : class\n",
    "class Question:\n",
    "    def __init__(self,column,value):\n",
    "        self.column = column\n",
    "        self.value = value\n",
    "    \n",
    "    def match(self,example):\n",
    "        val = example[self.column]\n",
    "        return val == self.value\n",
    "    \n",
    "    def __repr__(self):\n",
    "        condition = '=='\n",
    "        return ('Is %s %s %s ?'%(title[self.column],condition,self.value))"
   ]
  },
  {
   "cell_type": "code",
   "execution_count": 13,
   "metadata": {},
   "outputs": [
    {
     "data": {
      "text/plain": [
       "Is Temp. == Hot ?"
      ]
     },
     "execution_count": 13,
     "metadata": {},
     "output_type": "execute_result"
    }
   ],
   "source": [
    "q = Question(1,'Hot')\n",
    "q"
   ]
  },
  {
   "cell_type": "code",
   "execution_count": 14,
   "metadata": {},
   "outputs": [
    {
     "data": {
      "text/plain": [
       "Is Outlook == Sunny ?"
      ]
     },
     "execution_count": 14,
     "metadata": {},
     "output_type": "execute_result"
    }
   ],
   "source": [
    "r = Question(0,'Sunny')\n",
    "r"
   ]
  },
  {
   "cell_type": "code",
   "execution_count": 15,
   "metadata": {},
   "outputs": [
    {
     "data": {
      "text/plain": [
       "Is Wind == Strong ?"
      ]
     },
     "execution_count": 15,
     "metadata": {},
     "output_type": "execute_result"
    }
   ],
   "source": [
    "s = Question(3,'Strong')\n",
    "s"
   ]
  },
  {
   "cell_type": "code",
   "execution_count": 16,
   "metadata": {},
   "outputs": [
    {
     "data": {
      "text/plain": [
       "Is Humidity == Normal ?"
      ]
     },
     "execution_count": 16,
     "metadata": {},
     "output_type": "execute_result"
    }
   ],
   "source": [
    "t = Question(2,'Normal')\n",
    "t"
   ]
  },
  {
   "cell_type": "code",
   "execution_count": 17,
   "metadata": {},
   "outputs": [],
   "source": [
    "#Splitting the data with respect to question\n",
    "def partition(rows,question):\n",
    "    true_rows,false_rows = [],[]\n",
    "    for row in rows:\n",
    "        #print(row)\n",
    "        if question.match(row):\n",
    "            true_rows.append(row)\n",
    "        else:\n",
    "            false_rows.append(row)\n",
    "    return true_rows,false_rows"
   ]
  },
  {
   "cell_type": "code",
   "execution_count": 18,
   "metadata": {},
   "outputs": [],
   "source": [
    "t_r , f_r = partition(data,Question(0,'Sunny'))"
   ]
  },
  {
   "cell_type": "code",
   "execution_count": 19,
   "metadata": {},
   "outputs": [
    {
     "name": "stdout",
     "output_type": "stream",
     "text": [
      "true branch : [['Sunny', 'Hot', 'High', 'Weak', 'No'], ['Sunny', 'Hot', 'High', 'Strong', 'No'], ['Sunny', 'Mild', 'High', 'Weak', 'No'], ['Sunny', 'Cool', 'Normal', 'Weak', 'Yes'], ['Sunny', 'Mild', 'Normal', 'Strong', 'Yes']]\n",
      "false branch: [['Overcast', 'Hot', 'High', 'Weak', 'Yes'], ['Rain', 'Mild', 'High', 'Weak', 'Yes'], ['Rain', 'Cool', 'Normal', 'Weak', 'Yes'], ['Rain', 'Cool', 'Normal', 'Strong', 'No'], ['Overcast', 'Cool', 'Normal', 'Strong', 'Yes'], ['Rain', 'Mild', 'Normal', 'Weak', 'Yes'], ['Overcast', 'Mild', 'High', 'Strong', 'Yes'], ['Overcast', 'Hot', 'Normal', 'Weak', 'Yes'], ['Rain', 'Mild', 'High', 'Strong', 'No']]\n"
     ]
    }
   ],
   "source": [
    "print('true branch :',t_r)\n",
    "print('false branch:',f_r)"
   ]
  },
  {
   "cell_type": "code",
   "execution_count": 20,
   "metadata": {},
   "outputs": [
    {
     "name": "stdout",
     "output_type": "stream",
     "text": [
      "  Outlook Temp. Humidity    Wind Decision\n",
      "0   Sunny   Hot     High    Weak       No\n",
      "1   Sunny   Hot     High  Strong       No\n",
      "2   Sunny  Mild     High    Weak       No\n",
      "3   Sunny  Cool   Normal    Weak      Yes\n",
      "4   Sunny  Mild   Normal  Strong      Yes\n",
      "\n",
      "    Outlook Temp. Humidity    Wind Decision\n",
      "0  Overcast   Hot     High    Weak      Yes\n",
      "1      Rain  Mild     High    Weak      Yes\n",
      "2      Rain  Cool   Normal    Weak      Yes\n",
      "3      Rain  Cool   Normal  Strong       No\n",
      "4  Overcast  Cool   Normal  Strong      Yes\n",
      "5      Rain  Mild   Normal    Weak      Yes\n",
      "6  Overcast  Mild     High  Strong      Yes\n",
      "7  Overcast   Hot   Normal    Weak      Yes\n",
      "8      Rain  Mild     High  Strong       No\n"
     ]
    }
   ],
   "source": [
    "#Visualizing whether this true branch is right or wrong\n",
    "d = pd.DataFrame(t_r,columns = title)\n",
    "print(d)\n",
    "print()\n",
    "c = pd.DataFrame(f_r,columns = title)\n",
    "print(c)"
   ]
  },
  {
   "cell_type": "code",
   "execution_count": 21,
   "metadata": {},
   "outputs": [],
   "source": [
    "#quantifying methods to get a best question and to best splitting the data\n",
    "#foe splitting we use gini index or entropy\n",
    "#here, Gini Index (for class label : Decision)\n",
    "def gini(rows):\n",
    "    count = count_values(rows)\n",
    "    gini = 1\n",
    "    for val in count:\n",
    "        p = count[val]/len(rows)\n",
    "        gini -= p**2\n",
    "    return gini        \n",
    "\n",
    "#or entropy\n",
    "def entropy(rows):\n",
    "    entropy = 0\n",
    "    count = count_values(rows)\n",
    "    #print(count)\n",
    "    from math import log\n",
    "    log2 = lambda x : log(x)/log(2)\n",
    "    for val in count:\n",
    "        p = count[val]/len(rows)\n",
    "        entropy -= p*log2(p)\n",
    "    return entropy"
   ]
  },
  {
   "cell_type": "code",
   "execution_count": 22,
   "metadata": {},
   "outputs": [
    {
     "data": {
      "text/plain": [
       "0.4591836734693877"
      ]
     },
     "execution_count": 22,
     "metadata": {},
     "output_type": "execute_result"
    }
   ],
   "source": [
    "gini(data)"
   ]
  },
  {
   "cell_type": "code",
   "execution_count": 23,
   "metadata": {},
   "outputs": [
    {
     "data": {
      "text/plain": [
       "0.9709505944546686"
      ]
     },
     "execution_count": 23,
     "metadata": {},
     "output_type": "execute_result"
    }
   ],
   "source": [
    "entropy(t_r)        "
   ]
  },
  {
   "cell_type": "code",
   "execution_count": 24,
   "metadata": {},
   "outputs": [],
   "source": [
    "#to find the best question for splitting we use Information Gain ,can use both gini ans well as entropy\n",
    "def info_gain_entropy(current,left,right):\n",
    "    p = float(len(left))/(len(left)+len(right))\n",
    "    return current - p * entropy(left) - (1-p) * entropy(right)\n",
    "#or gini \n",
    "\n",
    "\n",
    "def info_gain_gini(current,left,right):\n",
    "    p = float(len(left))/(len(left)+len(right))\n",
    "    return current - (p*gini(left) + (1-p)*gini(right))\n"
   ]
  },
  {
   "cell_type": "code",
   "execution_count": 44,
   "metadata": {},
   "outputs": [
    {
     "data": {
      "text/plain": [
       "0.1022435636098506"
      ]
     },
     "execution_count": 44,
     "metadata": {},
     "output_type": "execute_result"
    }
   ],
   "source": [
    "#Information gain for wind\n",
    "current_uncertaininty=entropy(data)\n",
    "info_gain_entropy(current_uncertaininty,t_r,f_r)    "
   ]
  },
  {
   "cell_type": "code",
   "execution_count": 45,
   "metadata": {},
   "outputs": [],
   "source": [
    "# finding the best split  (best gain and best question)\n",
    "\n",
    "#RootNode\n",
    "def find_best_split(rows):\n",
    "    best_gain=0\n",
    "    best_question=None\n",
    "    #calculate the current_gain\n",
    "    current=entropy(rows)\n",
    "    #total number of features\n",
    "    features=len(rows[0])-1\n",
    "    for col in range(features):\n",
    "        #collects all unique classes for a feature\n",
    "        values=set([row[col] for row in rows])\n",
    "        #print(values)\n",
    "        for val in values:\n",
    "            #traverse each unique classs\n",
    "            #ask the corresponding question\n",
    "            question=Question(col,val)\n",
    "            #devide the data based on that ques\n",
    "            true_rows,false_rows=partition(rows,question)\n",
    "            if len(true_rows)==0 or len(false_rows) ==0:\n",
    "                #no use go to next iteration\n",
    "                continue\n",
    "            #calculate corresponding gain\n",
    "            gain=info_gain_entropy(current,true_rows,false_rows)\n",
    "            #if gain is > than the best replace\n",
    "            if gain>=best_gain:\n",
    "                best_gain,best_question=gain,question\n",
    "            #iterate through each unique class of each feature and return the best gain and best question     \n",
    "    return best_gain,best_question\n"
   ]
  },
  {
   "cell_type": "code",
   "execution_count": 46,
   "metadata": {},
   "outputs": [
    {
     "data": {
      "text/plain": [
       "5"
      ]
     },
     "execution_count": 46,
     "metadata": {},
     "output_type": "execute_result"
    }
   ],
   "source": [
    "len(data[0])"
   ]
  },
  {
   "cell_type": "code",
   "execution_count": 47,
   "metadata": {},
   "outputs": [
    {
     "name": "stdout",
     "output_type": "stream",
     "text": [
      "Root Node .....\n",
      "Question: Is Outlook == Overcast ?\n",
      "gain: 0.22600024438491662\n"
     ]
    }
   ],
   "source": [
    "g,q = find_best_split(data)\n",
    "print('Root Node .....')\n",
    "print('Question:',q)\n",
    "print('gain:',g)"
   ]
  },
  {
   "cell_type": "code",
   "execution_count": 48,
   "metadata": {},
   "outputs": [],
   "source": [
    "#buliding the tree\n",
    "class DecisionTree:\n",
    "    def __init__(self,question,true_branch,false_branch):\n",
    "        self.question = question\n",
    "        self.true_branch = true_branch\n",
    "        self.false_branch = false_branch\n",
    "                "
   ]
  },
  {
   "cell_type": "code",
   "execution_count": 49,
   "metadata": {},
   "outputs": [],
   "source": [
    "class Leaf:\n",
    "    def __init__(self,rows):\n",
    "        self.predictions = count_values(rows)"
   ]
  },
  {
   "cell_type": "code",
   "execution_count": 50,
   "metadata": {},
   "outputs": [],
   "source": [
    "def build_tree(rows):\n",
    "    #getting best gain and question from the previous function\n",
    "    \n",
    "    \n",
    "    # Try partitioing the dataset on each of the unique attribute,\n",
    "    # calculate the information gain,\n",
    "    # and return the question that produces the highest gain.\n",
    "    gain , question = find_best_split(rows)\n",
    "    \n",
    "    if gain == 0:\n",
    "        return Leaf(rows)\n",
    "    #splitting the data for the question given\n",
    "    true_rows , false_rows = partition(rows,question)\n",
    "    \n",
    "    #finding the leaf node recursively\n",
    "    true_branch = build_tree(true_rows)\n",
    "    false_branch = build_tree(false_rows)\n",
    "    \n",
    "    #returning question node\n",
    "    return DecisionTree(question,true_branch,false_branch)"
   ]
  },
  {
   "cell_type": "code",
   "execution_count": 51,
   "metadata": {},
   "outputs": [],
   "source": [
    "def print_tree(node, spacing=\"\"):\n",
    "    \"\"\"World's most elegant tree printing function.\"\"\"\n",
    "\n",
    "    # Base case: we've reached a leaf\n",
    "    if isinstance(node, Leaf):\n",
    "        print (spacing + \"Predict\", node.predictions)\n",
    "        return\n",
    "\n",
    "    # Print the question at this node\n",
    "    print (spacing + str(node.question))\n",
    "\n",
    "    # Call this function recursively on the true branch\n",
    "    print (spacing + '--> True:')\n",
    "    print_tree(node.true_branch, spacing + \"  \")\n",
    "\n",
    "    # Call this function recursively on the false branch\n",
    "    print (spacing + '--> False:')\n",
    "    print_tree(node.false_branch, spacing + \"  \")"
   ]
  },
  {
   "cell_type": "code",
   "execution_count": 52,
   "metadata": {},
   "outputs": [],
   "source": [
    "my_tree = build_tree(data)"
   ]
  },
  {
   "cell_type": "code",
   "execution_count": 53,
   "metadata": {},
   "outputs": [
    {
     "name": "stdout",
     "output_type": "stream",
     "text": [
      "Is Outlook == Overcast ?\n",
      "--> True:\n",
      "  Predict {'Yes': 4}\n",
      "--> False:\n",
      "  Is Humidity == High ?\n",
      "  --> True:\n",
      "    Is Outlook == Rain ?\n",
      "    --> True:\n",
      "      Is Wind == Strong ?\n",
      "      --> True:\n",
      "        Predict {'No': 1}\n",
      "      --> False:\n",
      "        Predict {'Yes': 1}\n",
      "    --> False:\n",
      "      Predict {'No': 3}\n",
      "  --> False:\n",
      "    Is Wind == Strong ?\n",
      "    --> True:\n",
      "      Is Temp. == Mild ?\n",
      "      --> True:\n",
      "        Predict {'Yes': 1}\n",
      "      --> False:\n",
      "        Predict {'No': 1}\n",
      "    --> False:\n",
      "      Predict {'Yes': 3}\n"
     ]
    }
   ],
   "source": [
    "print_tree(my_tree)"
   ]
  },
  {
   "cell_type": "code",
   "execution_count": 35,
   "metadata": {},
   "outputs": [],
   "source": [
    "def classify(row, node):\n",
    "    \"\"\"See the 'rules of recursion' above.\"\"\"\n",
    "\n",
    "    # Base case: we've reached a leaf\n",
    "    if isinstance(node, Leaf):\n",
    "        return node.predictions\n",
    "\n",
    "    # Decide whether to follow the true-branch or the false-branch.\n",
    "    # Compare the feature / value stored in the node,\n",
    "    # to the example we're considering.\n",
    "    if node.question.match(row):\n",
    "        return classify(row, node.true_branch)\n",
    "    else:\n",
    "        return classify(row, node.false_branch)"
   ]
  },
  {
   "cell_type": "code",
   "execution_count": 36,
   "metadata": {},
   "outputs": [],
   "source": [
    "def print_leaf(counts):\n",
    "    \"\"\"A nicer way to print the predictions at a leaf.\"\"\"\n",
    "    total = sum(counts.values()) * 1.0\n",
    "    probs = {}\n",
    "    for lbl in counts.keys():\n",
    "        probs[lbl] = str(int(counts[lbl] / total * 100)) + \"%\"\n",
    "    return probs"
   ]
  },
  {
   "cell_type": "code",
   "execution_count": 37,
   "metadata": {},
   "outputs": [
    {
     "data": {
      "text/plain": [
       "{'No': 3}"
      ]
     },
     "execution_count": 37,
     "metadata": {},
     "output_type": "execute_result"
    }
   ],
   "source": [
    "\n",
    "#######\n",
    "# Demo:\n",
    "# The tree predicts the 1st row of our\n",
    "# training data is an apple with confidence 1.\n",
    "classify(data[0], my_tree)"
   ]
  },
  {
   "cell_type": "code",
   "execution_count": 42,
   "metadata": {},
   "outputs": [],
   "source": [
    "testing_data = [['Sunny','Hot','Normal','Strong','Yes'],\n",
    "        ['Rain','Mild','High','Strong','No'],\n",
    "        ['Rain','Mild','Normal','Strong','Yes'],\n",
    "        ['Overcast','Mild','High','Strong','No'],\n",
    "        ['Overcast','Hot','Normal','Weak','No'],\n",
    "        ['Overcast','Mild','Normal','Weak','Yes']]"
   ]
  },
  {
   "cell_type": "code",
   "execution_count": 43,
   "metadata": {},
   "outputs": [
    {
     "name": "stdout",
     "output_type": "stream",
     "text": [
      "['Outlook', 'Temp.', 'Humidity', 'Wind', 'Decision']\n",
      "\n",
      "Actual: Yes. Predicted: {'No': '100%'}\n",
      "Actual: No. Predicted: {'No': '100%'}\n",
      "Actual: Yes. Predicted: {'Yes': '100%'}\n",
      "Actual: No. Predicted: {'Yes': '100%'}\n",
      "Actual: No. Predicted: {'Yes': '100%'}\n",
      "Actual: Yes. Predicted: {'Yes': '100%'}\n"
     ]
    }
   ],
   "source": [
    "print(title)\n",
    "print()\n",
    "for row in testing_data:\n",
    "    print (\"Actual: %s. Predicted: %s\" %\n",
    "           (row[-1], print_leaf(classify(row, my_tree))))"
   ]
  },
  {
   "cell_type": "code",
   "execution_count": null,
   "metadata": {},
   "outputs": [],
   "source": []
  },
  {
   "cell_type": "code",
   "execution_count": null,
   "metadata": {},
   "outputs": [],
   "source": []
  },
  {
   "cell_type": "code",
   "execution_count": null,
   "metadata": {},
   "outputs": [],
   "source": []
  },
  {
   "cell_type": "code",
   "execution_count": null,
   "metadata": {},
   "outputs": [],
   "source": []
  },
  {
   "cell_type": "code",
   "execution_count": null,
   "metadata": {},
   "outputs": [],
   "source": []
  },
  {
   "cell_type": "code",
   "execution_count": null,
   "metadata": {},
   "outputs": [],
   "source": []
  },
  {
   "cell_type": "code",
   "execution_count": null,
   "metadata": {},
   "outputs": [],
   "source": []
  },
  {
   "cell_type": "code",
   "execution_count": null,
   "metadata": {},
   "outputs": [],
   "source": []
  },
  {
   "cell_type": "code",
   "execution_count": null,
   "metadata": {},
   "outputs": [],
   "source": []
  },
  {
   "cell_type": "code",
   "execution_count": null,
   "metadata": {},
   "outputs": [],
   "source": []
  },
  {
   "cell_type": "code",
   "execution_count": null,
   "metadata": {},
   "outputs": [],
   "source": []
  },
  {
   "cell_type": "code",
   "execution_count": null,
   "metadata": {},
   "outputs": [],
   "source": []
  }
 ],
 "metadata": {
  "kernelspec": {
   "display_name": "Python 3",
   "language": "python",
   "name": "python3"
  },
  "language_info": {
   "codemirror_mode": {
    "name": "ipython",
    "version": 3
   },
   "file_extension": ".py",
   "mimetype": "text/x-python",
   "name": "python",
   "nbconvert_exporter": "python",
   "pygments_lexer": "ipython3",
   "version": "3.7.1"
  }
 },
 "nbformat": 4,
 "nbformat_minor": 2
}
