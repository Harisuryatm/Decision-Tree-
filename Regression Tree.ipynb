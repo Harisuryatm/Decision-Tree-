{
 "cells": [
  {
   "cell_type": "markdown",
   "metadata": {},
   "source": [
    "## Regression Tree"
   ]
  },
  {
   "cell_type": "markdown",
   "metadata": {},
   "source": [
    "using standard deviation , we are going to make decision"
   ]
  },
  {
   "cell_type": "code",
   "execution_count": 231,
   "metadata": {},
   "outputs": [],
   "source": [
    "import pandas as pd\n",
    "data = [['Sunny','Hot','High','Weak',25],\n",
    "        ['Sunny','Hot','High','Strong',30],\n",
    "        ['Overcast','Hot','High','Weak',46],\n",
    "        ['Rain','Mild','High','Weak',45],\n",
    "        ['Rain','Cool','Normal','Weak',52],\n",
    "        ['Rain','Cool','Normal','Strong',23],\n",
    "        ['Overcast','Cool','Normal','Strong',43],\n",
    "        ['Sunny','Mild','High','Weak',35],\n",
    "        ['Sunny','Cool','Normal','Weak',38],\n",
    "        ['Rain','Mild','Normal','Weak',46],\n",
    "        ['Sunny','Mild','Normal','Strong',48],\n",
    "        ['Overcast','Mild','High','Strong',52],\n",
    "        ['Overcast','Hot','Normal','Weak',44],\n",
    "        ['Rain','Mild','High','Strong',30]]"
   ]
  },
  {
   "cell_type": "code",
   "execution_count": 1,
   "metadata": {},
   "outputs": [],
   "source": [
    "title = ['Outlook','Temp.','Humidity','Wind','Decision']"
   ]
  },
  {
   "cell_type": "code",
   "execution_count": 233,
   "metadata": {},
   "outputs": [
    {
     "data": {
      "text/html": [
       "<div>\n",
       "<style scoped>\n",
       "    .dataframe tbody tr th:only-of-type {\n",
       "        vertical-align: middle;\n",
       "    }\n",
       "\n",
       "    .dataframe tbody tr th {\n",
       "        vertical-align: top;\n",
       "    }\n",
       "\n",
       "    .dataframe thead th {\n",
       "        text-align: right;\n",
       "    }\n",
       "</style>\n",
       "<table border=\"1\" class=\"dataframe\">\n",
       "  <thead>\n",
       "    <tr style=\"text-align: right;\">\n",
       "      <th></th>\n",
       "      <th>Outlook</th>\n",
       "      <th>Temp.</th>\n",
       "      <th>Humidity</th>\n",
       "      <th>Wind</th>\n",
       "      <th>Decision</th>\n",
       "    </tr>\n",
       "  </thead>\n",
       "  <tbody>\n",
       "    <tr>\n",
       "      <th>0</th>\n",
       "      <td>Sunny</td>\n",
       "      <td>Hot</td>\n",
       "      <td>High</td>\n",
       "      <td>Weak</td>\n",
       "      <td>25</td>\n",
       "    </tr>\n",
       "    <tr>\n",
       "      <th>1</th>\n",
       "      <td>Sunny</td>\n",
       "      <td>Hot</td>\n",
       "      <td>High</td>\n",
       "      <td>Strong</td>\n",
       "      <td>30</td>\n",
       "    </tr>\n",
       "    <tr>\n",
       "      <th>2</th>\n",
       "      <td>Overcast</td>\n",
       "      <td>Hot</td>\n",
       "      <td>High</td>\n",
       "      <td>Weak</td>\n",
       "      <td>46</td>\n",
       "    </tr>\n",
       "    <tr>\n",
       "      <th>3</th>\n",
       "      <td>Rain</td>\n",
       "      <td>Mild</td>\n",
       "      <td>High</td>\n",
       "      <td>Weak</td>\n",
       "      <td>45</td>\n",
       "    </tr>\n",
       "    <tr>\n",
       "      <th>4</th>\n",
       "      <td>Rain</td>\n",
       "      <td>Cool</td>\n",
       "      <td>Normal</td>\n",
       "      <td>Weak</td>\n",
       "      <td>52</td>\n",
       "    </tr>\n",
       "    <tr>\n",
       "      <th>5</th>\n",
       "      <td>Rain</td>\n",
       "      <td>Cool</td>\n",
       "      <td>Normal</td>\n",
       "      <td>Strong</td>\n",
       "      <td>23</td>\n",
       "    </tr>\n",
       "    <tr>\n",
       "      <th>6</th>\n",
       "      <td>Overcast</td>\n",
       "      <td>Cool</td>\n",
       "      <td>Normal</td>\n",
       "      <td>Strong</td>\n",
       "      <td>43</td>\n",
       "    </tr>\n",
       "    <tr>\n",
       "      <th>7</th>\n",
       "      <td>Sunny</td>\n",
       "      <td>Mild</td>\n",
       "      <td>High</td>\n",
       "      <td>Weak</td>\n",
       "      <td>35</td>\n",
       "    </tr>\n",
       "    <tr>\n",
       "      <th>8</th>\n",
       "      <td>Sunny</td>\n",
       "      <td>Cool</td>\n",
       "      <td>Normal</td>\n",
       "      <td>Weak</td>\n",
       "      <td>38</td>\n",
       "    </tr>\n",
       "    <tr>\n",
       "      <th>9</th>\n",
       "      <td>Rain</td>\n",
       "      <td>Mild</td>\n",
       "      <td>Normal</td>\n",
       "      <td>Weak</td>\n",
       "      <td>46</td>\n",
       "    </tr>\n",
       "    <tr>\n",
       "      <th>10</th>\n",
       "      <td>Sunny</td>\n",
       "      <td>Mild</td>\n",
       "      <td>Normal</td>\n",
       "      <td>Strong</td>\n",
       "      <td>48</td>\n",
       "    </tr>\n",
       "    <tr>\n",
       "      <th>11</th>\n",
       "      <td>Overcast</td>\n",
       "      <td>Mild</td>\n",
       "      <td>High</td>\n",
       "      <td>Strong</td>\n",
       "      <td>52</td>\n",
       "    </tr>\n",
       "    <tr>\n",
       "      <th>12</th>\n",
       "      <td>Overcast</td>\n",
       "      <td>Hot</td>\n",
       "      <td>Normal</td>\n",
       "      <td>Weak</td>\n",
       "      <td>44</td>\n",
       "    </tr>\n",
       "    <tr>\n",
       "      <th>13</th>\n",
       "      <td>Rain</td>\n",
       "      <td>Mild</td>\n",
       "      <td>High</td>\n",
       "      <td>Strong</td>\n",
       "      <td>30</td>\n",
       "    </tr>\n",
       "  </tbody>\n",
       "</table>\n",
       "</div>"
      ],
      "text/plain": [
       "     Outlook Temp. Humidity    Wind  Decision\n",
       "0      Sunny   Hot     High    Weak        25\n",
       "1      Sunny   Hot     High  Strong        30\n",
       "2   Overcast   Hot     High    Weak        46\n",
       "3       Rain  Mild     High    Weak        45\n",
       "4       Rain  Cool   Normal    Weak        52\n",
       "5       Rain  Cool   Normal  Strong        23\n",
       "6   Overcast  Cool   Normal  Strong        43\n",
       "7      Sunny  Mild     High    Weak        35\n",
       "8      Sunny  Cool   Normal    Weak        38\n",
       "9       Rain  Mild   Normal    Weak        46\n",
       "10     Sunny  Mild   Normal  Strong        48\n",
       "11  Overcast  Mild     High  Strong        52\n",
       "12  Overcast   Hot   Normal    Weak        44\n",
       "13      Rain  Mild     High  Strong        30"
      ]
     },
     "execution_count": 233,
     "metadata": {},
     "output_type": "execute_result"
    }
   ],
   "source": [
    "Data = pd.DataFrame(data,columns = title)\n",
    "Data"
   ]
  },
  {
   "cell_type": "code",
   "execution_count": 234,
   "metadata": {},
   "outputs": [],
   "source": [
    "#creating uniques values for features\n",
    "def unique_values(rows,col):\n",
    "    return set([row[col] for row in rows])"
   ]
  },
  {
   "cell_type": "code",
   "execution_count": 235,
   "metadata": {},
   "outputs": [],
   "source": [
    "def values_list(rows):\n",
    "    return list([row[-1] for row in rows])\n",
    "\n",
    "\n",
    "def avg(rows):\n",
    "    val = values_list(rows)\n",
    "    summ = 0\n",
    "    for i in val:\n",
    "        summ += i\n",
    "    mean = summ/len(rows)\n",
    "    return mean"
   ]
  },
  {
   "cell_type": "code",
   "execution_count": 236,
   "metadata": {},
   "outputs": [
    {
     "data": {
      "text/plain": [
       "39.785714285714285"
      ]
     },
     "execution_count": 236,
     "metadata": {},
     "output_type": "execute_result"
    }
   ],
   "source": [
    "avg(data)"
   ]
  },
  {
   "cell_type": "code",
   "execution_count": 237,
   "metadata": {},
   "outputs": [],
   "source": [
    "#Standard Deviation (S) is for tree building (branching).\n",
    "from math import sqrt\n",
    "def std(rows):\n",
    "    x_mean = avg(rows)\n",
    "    val = values_list(rows)\n",
    "    st_dev = 0\n",
    "    for x in val:\n",
    "        st_dev += (x-x_mean)**2\n",
    "    return sqrt(st_dev)/sqrt(len(rows))"
   ]
  },
  {
   "cell_type": "code",
   "execution_count": 238,
   "metadata": {},
   "outputs": [
    {
     "data": {
      "text/plain": [
       "9.321086474291743"
      ]
     },
     "execution_count": 238,
     "metadata": {},
     "output_type": "execute_result"
    }
   ],
   "source": [
    "std(data)"
   ]
  },
  {
   "cell_type": "code",
   "execution_count": 239,
   "metadata": {},
   "outputs": [],
   "source": [
    "#Coefficient of Deviation (CV) is used to decide when to stop branching. We can use Count (n) as well.\n",
    "def coeff_variation(rows):\n",
    "    mean = avg(rows)\n",
    "    S= std(rows)\n",
    "    return S/mean "
   ]
  },
  {
   "cell_type": "code",
   "execution_count": 240,
   "metadata": {},
   "outputs": [
    {
     "data": {
      "text/plain": [
       "0.23428224531433467"
      ]
     },
     "execution_count": 240,
     "metadata": {},
     "output_type": "execute_result"
    }
   ],
   "source": [
    "coeff_variation(data)"
   ]
  },
  {
   "cell_type": "code",
   "execution_count": 241,
   "metadata": {},
   "outputs": [],
   "source": []
  },
  {
   "cell_type": "code",
   "execution_count": 242,
   "metadata": {},
   "outputs": [
    {
     "data": {
      "text/plain": [
       "True"
      ]
     },
     "execution_count": 242,
     "metadata": {},
     "output_type": "execute_result"
    }
   ],
   "source": [
    "is_numeric(7)"
   ]
  },
  {
   "cell_type": "code",
   "execution_count": 267,
   "metadata": {},
   "outputs": [],
   "source": [
    "#counting the attributes of class label\n",
    "def count_values(rows):\n",
    "    count = {}\n",
    "    for row in rows:\n",
    "        label = row[-1]\n",
    "        if label not in count:\n",
    "            count[label] = 1\n",
    "        else:\n",
    "            count[label] += 1\n",
    "    return count\n"
   ]
  },
  {
   "cell_type": "code",
   "execution_count": 268,
   "metadata": {},
   "outputs": [
    {
     "data": {
      "text/plain": [
       "{25: 1, 30: 2, 46: 2, 45: 1, 52: 2, 23: 1, 43: 1, 35: 1, 38: 1, 48: 1, 44: 1}"
      ]
     },
     "execution_count": 268,
     "metadata": {},
     "output_type": "execute_result"
    }
   ],
   "source": [
    "count_values(data)"
   ]
  },
  {
   "cell_type": "code",
   "execution_count": 269,
   "metadata": {},
   "outputs": [],
   "source": [
    "class Question(object):\n",
    "    #taking columns and value as an attributes\n",
    "    def __init__(self , col , value):\n",
    "        self.col = col\n",
    "        self.value = value\n",
    "        \n",
    "    #Matching the values with the column\n",
    "    def match(self,data):\n",
    "        '''returns True if the value in given column is greater than input value\n",
    "           else, it returns False'''\n",
    "        val = data[self.col]\n",
    "        return val == self.value\n",
    "    \n",
    "    #string representation\n",
    "    def __repr__(self):\n",
    "        condition = '=='\n",
    "        return ('Is %s %s %s  ?'%(title[self.col] ,condition , self.value))\n",
    "        \n",
    "    "
   ]
  },
  {
   "cell_type": "code",
   "execution_count": 270,
   "metadata": {},
   "outputs": [
    {
     "data": {
      "text/plain": [
       "Is Outlook == Sunny  ?"
      ]
     },
     "execution_count": 270,
     "metadata": {},
     "output_type": "execute_result"
    }
   ],
   "source": [
    "q = Question(0,'Sunny')\n",
    "q"
   ]
  },
  {
   "cell_type": "code",
   "execution_count": 271,
   "metadata": {},
   "outputs": [
    {
     "data": {
      "text/plain": [
       "Is Temp. == Hot  ?"
      ]
     },
     "execution_count": 271,
     "metadata": {},
     "output_type": "execute_result"
    }
   ],
   "source": [
    "r = Question(1,'Hot')\n",
    "r"
   ]
  },
  {
   "cell_type": "code",
   "execution_count": 293,
   "metadata": {},
   "outputs": [],
   "source": [
    "def partition(rows , question):\n",
    "    true_rows,false_rows = [],[]\n",
    "    for row in rows:\n",
    "        if question.match(row):\n",
    "            true_rows.append(row)\n",
    "        else:\n",
    "            false_rows.append(row)\n",
    "    return true_rows,false_rows"
   ]
  },
  {
   "cell_type": "code",
   "execution_count": 297,
   "metadata": {},
   "outputs": [],
   "source": [
    "t_r ,f_r= partition(data,Question(0,'Sunny'))\n"
   ]
  },
  {
   "cell_type": "code",
   "execution_count": 298,
   "metadata": {},
   "outputs": [
    {
     "data": {
      "text/plain": [
       "9.321086474291743"
      ]
     },
     "execution_count": 298,
     "metadata": {},
     "output_type": "execute_result"
    }
   ],
   "source": [
    "std(data)"
   ]
  },
  {
   "cell_type": "code",
   "execution_count": 299,
   "metadata": {},
   "outputs": [],
   "source": [
    "# Standard deviation for two attributes (target and predictor):\t\n",
    "def std_two_attr(rows,true_branch):\n",
    "    count = count_values(rows)\n",
    "    std_attr = 0\n",
    "    for val in count:\n",
    "        p = count[val]/len(rows)\n",
    "        std_attr += p*std(true_branch)\n",
    "    return std_attr\n",
    "        \n",
    "        \n",
    "        "
   ]
  },
  {
   "cell_type": "code",
   "execution_count": 300,
   "metadata": {},
   "outputs": [
    {
     "data": {
      "text/plain": [
       "7.7820305833374865"
      ]
     },
     "execution_count": 300,
     "metadata": {},
     "output_type": "execute_result"
    }
   ],
   "source": [
    "std_two_attr(data,t_r)"
   ]
  },
  {
   "cell_type": "code",
   "execution_count": 301,
   "metadata": {},
   "outputs": [],
   "source": [
    "def std_dev_reduction(rows,current,left):\n",
    "    return current - std_two_attr(rows,left)\n",
    "    "
   ]
  },
  {
   "cell_type": "code",
   "execution_count": 302,
   "metadata": {},
   "outputs": [
    {
     "data": {
      "text/plain": [
       "1.5390558909542564"
      ]
     },
     "execution_count": 302,
     "metadata": {},
     "output_type": "execute_result"
    }
   ],
   "source": [
    "current = std(data)\n",
    "std_dev_reduction(data,current,t_r)"
   ]
  },
  {
   "cell_type": "code",
   "execution_count": 303,
   "metadata": {},
   "outputs": [],
   "source": [
    "# splitting the data with respect to standard deviation reduction\n",
    "#splitting the best question and gainRatio\n",
    "def best_split(rows):\n",
    "    best_stdRed = 0\n",
    "    best_question = None\n",
    "    current = std(rows)\n",
    "    features = len(rows[0])-1\n",
    "    for col in range(features):\n",
    "        value = unique_values(rows,col)\n",
    "        for val in value:\n",
    "            question = Question(col,val)\n",
    "            \n",
    "            true_rows,false_rows = partition(rows,question)\n",
    "            #print(true_rows)\n",
    "            if len(true_rows) == 0 or len(false_rows)==0 :\n",
    "                continue\n",
    "            \n",
    "            std_reduction = std_dev_reduction(rows,current,true_rows)\n",
    "            \n",
    "            if std_reduction > best_stdRed:\n",
    "                best_stdRed,best_question = std_reduction,question\n",
    "    return best_stdRed,best_question"
   ]
  },
  {
   "cell_type": "code",
   "execution_count": 304,
   "metadata": {},
   "outputs": [
    {
     "data": {
      "text/plain": [
       "(5.830026463349508, Is Outlook == Overcast  ?)"
      ]
     },
     "execution_count": 304,
     "metadata": {},
     "output_type": "execute_result"
    }
   ],
   "source": [
    "best_split(data)"
   ]
  },
  {
   "cell_type": "code",
   "execution_count": 315,
   "metadata": {},
   "outputs": [],
   "source": [
    "#class --> decisiontree\n",
    "class DecisionTree:\n",
    "    def __init__(self,question,true_branch,false_branch):\n",
    "        #stores question\n",
    "        self.question = question\n",
    "        #stores true_branch\n",
    "        self.true_branch = true_branch\n",
    "        #stores false_branch\n",
    "        self.false_branch = false_branch"
   ]
  },
  {
   "cell_type": "code",
   "execution_count": 316,
   "metadata": {},
   "outputs": [],
   "source": [
    "#class leaf\n",
    "class Leaf:\n",
    "    def __init__(self,rows):\n",
    "        #stores the leaf value\n",
    "        self.predictions = count_values(rows)"
   ]
  },
  {
   "cell_type": "code",
   "execution_count": 317,
   "metadata": {},
   "outputs": [],
   "source": [
    "def build_tree(rows):\n",
    "    #info_gain and question formed\n",
    "    std_reduction,question = best_split(rows)\n",
    "    \n",
    "    #if gain = 0, then Leaf satisfied \n",
    "    if std_reduction == 0:\n",
    "        return Leaf(rows)\n",
    "    \n",
    "    #to find a best value or question to partition on\n",
    "    true_rows,false_rows = partition(rows,question)\n",
    "    #recursive function to build the model\n",
    "    true_branch = build_tree(true_rows)\n",
    "    false_branch = build_tree(false_rows)\n",
    "    \n",
    "    return DecisionTree(question , true_branch , false_branch)\n"
   ]
  },
  {
   "cell_type": "code",
   "execution_count": 318,
   "metadata": {},
   "outputs": [],
   "source": [
    "def print_tree(node,indentation=\"\"):\n",
    "    '''printing function'''\n",
    "    #base case means we have reached the leaf\n",
    "    #if the node object is of leaf type\n",
    "    if isinstance(node,Leaf):\n",
    "        print(indentation+\"PREDICTION\",node.predictions)\n",
    "        return \n",
    "    #print the question at node\n",
    "    print(indentation + str(node.question))\n",
    "    \n",
    "    #call the function on true branch \n",
    "    print(indentation+ \"Return Yes\")\n",
    "    print_tree(node.true_branch,indentation + \" \")\n",
    "    \n",
    "    #on flase branch\n",
    "    print(indentation+ \"Return No\")\n",
    "    print_tree(node.false_branch,indentation + \" \")"
   ]
  },
  {
   "cell_type": "code",
   "execution_count": 319,
   "metadata": {},
   "outputs": [
    {
     "name": "stdout",
     "output_type": "stream",
     "text": [
      "Is Outlook == Overcast  ?\n",
      "Return Yes\n",
      " Is Temp. == Cool  ?\n",
      " Return Yes\n",
      "  PREDICTION {43: 1}\n",
      " Return No\n",
      "  Is Temp. == Mild  ?\n",
      "  Return Yes\n",
      "   PREDICTION {52: 1}\n",
      "  Return No\n",
      "   Is Humidity == Normal  ?\n",
      "   Return Yes\n",
      "    PREDICTION {44: 1}\n",
      "   Return No\n",
      "    PREDICTION {46: 1}\n",
      "Return No\n",
      " Is Temp. == Hot  ?\n",
      " Return Yes\n",
      "  Is Wind == Weak  ?\n",
      "  Return Yes\n",
      "   PREDICTION {25: 1}\n",
      "  Return No\n",
      "   PREDICTION {30: 1}\n",
      " Return No\n",
      "  Is Outlook == Sunny  ?\n",
      "  Return Yes\n",
      "   Is Temp. == Cool  ?\n",
      "   Return Yes\n",
      "    PREDICTION {38: 1}\n",
      "   Return No\n",
      "    Is Humidity == Normal  ?\n",
      "    Return Yes\n",
      "     PREDICTION {48: 1}\n",
      "    Return No\n",
      "     PREDICTION {35: 1}\n",
      "  Return No\n",
      "   Is Wind == Weak  ?\n",
      "   Return Yes\n",
      "    Is Temp. == Cool  ?\n",
      "    Return Yes\n",
      "     PREDICTION {52: 1}\n",
      "    Return No\n",
      "     Is Humidity == Normal  ?\n",
      "     Return Yes\n",
      "      PREDICTION {46: 1}\n",
      "     Return No\n",
      "      PREDICTION {45: 1}\n",
      "   Return No\n",
      "    Is Temp. == Cool  ?\n",
      "    Return Yes\n",
      "     PREDICTION {23: 1}\n",
      "    Return No\n",
      "     PREDICTION {30: 1}\n"
     ]
    }
   ],
   "source": [
    "tree = build_tree(data)\n",
    "print_tree(tree)"
   ]
  },
  {
   "cell_type": "code",
   "execution_count": null,
   "metadata": {},
   "outputs": [],
   "source": []
  },
  {
   "cell_type": "code",
   "execution_count": null,
   "metadata": {},
   "outputs": [],
   "source": []
  }
 ],
 "metadata": {
  "kernelspec": {
   "display_name": "Python 3",
   "language": "python",
   "name": "python3"
  },
  "language_info": {
   "codemirror_mode": {
    "name": "ipython",
    "version": 3
   },
   "file_extension": ".py",
   "mimetype": "text/x-python",
   "name": "python",
   "nbconvert_exporter": "python",
   "pygments_lexer": "ipython3",
   "version": "3.7.1"
  }
 },
 "nbformat": 4,
 "nbformat_minor": 2
}
